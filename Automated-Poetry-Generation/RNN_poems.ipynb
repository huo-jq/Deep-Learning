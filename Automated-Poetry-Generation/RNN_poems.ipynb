{
 "cells": [
  {
   "cell_type": "code",
   "execution_count": 1,
   "metadata": {},
   "outputs": [
    {
     "data": {
      "text/plain": [
       "'\\n## 共享GPU\\nimport tensorflow as tf\\ngpu_options = tf.compat.v1.GPUOptions(per_process_gpu_memory_fraction=0.25)\\nsess = tf.compat.v1.Session(config=tf.compat.v1.ConfigProto(gpu_options=gpu_options))\\n'"
      ]
     },
     "execution_count": 1,
     "metadata": {},
     "output_type": "execute_result"
    }
   ],
   "source": [
    "'''\n",
    "## 共享GPU\n",
    "import tensorflow as tf\n",
    "gpu_options = tf.compat.v1.GPUOptions(per_process_gpu_memory_fraction=0.25)\n",
    "sess = tf.compat.v1.Session(config=tf.compat.v1.ConfigProto(gpu_options=gpu_options))\n",
    "'''"
   ]
  },
  {
   "cell_type": "code",
   "execution_count": 2,
   "metadata": {},
   "outputs": [
    {
     "name": "stdout",
     "output_type": "stream",
     "text": [
      "['寒', '随', '穷', '律', '变', '春', '逐', '鸟', '声', '开', '初', '风', '飘', '带', '柳', '晚', '雪', '间', '花', '梅', '碧', '林', '青', '旧', '竹', '绿', '沼', '翠', '新', '苔', '芝', '田', '初', '雁', '去', '绮', '树', '巧', '莺', '来']\n"
     ]
    }
   ],
   "source": [
    "#数据读入并展示\n",
    "import string\n",
    "import numpy as np\n",
    "\n",
    "f = open('/mnt/data/poems_clean.txt',\"r\",encoding='utf-8')\n",
    "poems = []\n",
    "for line in f.readlines():  \n",
    "     title, poem = line.split(':')     #去标题\n",
    "     poem = poem.replace(' ', '')      #去空格\n",
    "     poem = poem.replace('\\n', '')\n",
    "     poems.append(list(poem))\n",
    "print(poems[0][:])"
   ]
  },
  {
   "cell_type": "code",
   "execution_count": 3,
   "metadata": {},
   "outputs": [
    {
     "name": "stderr",
     "output_type": "stream",
     "text": [
      "Using TensorFlow backend.\n"
     ]
    },
    {
     "data": {
      "text/plain": [
       "5546"
      ]
     },
     "execution_count": 3,
     "metadata": {},
     "output_type": "execute_result"
    }
   ],
   "source": [
    "#Tokenizer编码\n",
    "from keras.preprocessing.text import Tokenizer\n",
    "from keras.preprocessing.sequence import pad_sequences\n",
    "\n",
    "tokenizer = Tokenizer()\n",
    "tokenizer.fit_on_texts(poems)\n",
    "poems_digit = tokenizer.texts_to_sequences(poems)\n",
    "vocab_size = len(tokenizer.word_index) + 1\n",
    "vocab_size"
   ]
  },
  {
   "cell_type": "code",
   "execution_count": 4,
   "metadata": {},
   "outputs": [
    {
     "name": "stdout",
     "output_type": "stream",
     "text": [
      "原始诗歌\n",
      "['床', '前', '明', '月', '光', '疑', '是', '地', '上', '霜', '举', '头', '望', '明', '月', '低', '头', '思', '故', '乡']\n",
      "\n",
      "\n",
      "编码+补全后的结果\n",
      "[532  72  53  13 140 429  44 113  15 202 688 128 106  53  13 502 128  75\n",
      " 134 169   0   0   0   0   0   0   0   0   0   0   0   0   0   0   0   0\n",
      "   0   0   0   0   0   0   0   0   0   0   0   0   0   0]\n"
     ]
    }
   ],
   "source": [
    "#处理“长短不一”\n",
    "poems_digit = pad_sequences(poems_digit, maxlen=50, padding='post')\n",
    "print(\"原始诗歌\")\n",
    "print(poems[3864])\n",
    "print(\"\\n\")\n",
    "print(\"编码+补全后的结果\")\n",
    "print(poems_digit[3864])"
   ]
  },
  {
   "cell_type": "code",
   "execution_count": 5,
   "metadata": {},
   "outputs": [
    {
     "name": "stdout",
     "output_type": "stream",
     "text": [
      "(24117, 50)\n",
      "(24117, 49)\n",
      "(24117, 49)\n",
      "X示例 \t Y示例\n",
      "42 \t 180\n",
      "180 \t 401\n",
      "401 \t 1143\n",
      "1143 \t 671\n",
      "671 \t 9\n",
      "9 \t 331\n",
      "331 \t 130\n",
      "130 \t 58\n",
      "58 \t 84\n",
      "84 \t 177\n",
      "... \t ...\n"
     ]
    }
   ],
   "source": [
    "#矩阵拆分\n",
    "X = poems_digit[:, :-1]\n",
    "Y = poems_digit[:, 1:]\n",
    "\n",
    "print(poems_digit.shape)\n",
    "print(X.shape)\n",
    "print(Y.shape)\n",
    "\n",
    "print(\"X示例\", \"\\t\", \"Y示例\")\n",
    "\n",
    "for i in range(10):\n",
    "     print(X[0][i], \"\\t\", Y[0][i])\n",
    "    \n",
    "print(\"...\", \"\\t\", \"...\")"
   ]
  },
  {
   "cell_type": "code",
   "execution_count": 6,
   "metadata": {},
   "outputs": [
    {
     "name": "stdout",
     "output_type": "stream",
     "text": [
      "5546\n",
      "(24117, 49, 5546)\n"
     ]
    }
   ],
   "source": [
    "#one-hot编码\n",
    "print(vocab_size)\n",
    "from keras.utils import to_categorical\n",
    "Y = to_categorical(Y, num_classes=vocab_size)\n",
    "print(Y.shape)"
   ]
  },
  {
   "cell_type": "code",
   "execution_count": 7,
   "metadata": {},
   "outputs": [],
   "source": [
    "#定义虚拟空间维度\n",
    "from keras.models import Model\n",
    "from keras.layers import Input, SimpleRNN, Dense, Embedding, Activation, BatchNormalization\n",
    "embedding_size = 64\n",
    "hidden_size = 128"
   ]
  },
  {
   "cell_type": "code",
   "execution_count": 8,
   "metadata": {},
   "outputs": [
    {
     "name": "stdout",
     "output_type": "stream",
     "text": [
      "Model: \"model_1\"\n",
      "_________________________________________________________________\n",
      "Layer (type)                 Output Shape              Param #   \n",
      "=================================================================\n",
      "input_1 (InputLayer)         (None, 49)                0         \n",
      "_________________________________________________________________\n",
      "embedding_1 (Embedding)      (None, 49, 64)            354944    \n",
      "_________________________________________________________________\n",
      "simple_rnn_1 (SimpleRNN)     (None, 49, 128)           24704     \n",
      "_________________________________________________________________\n",
      "dense_1 (Dense)              (None, 49, 5546)          715434    \n",
      "_________________________________________________________________\n",
      "activation_1 (Activation)    (None, 49, 5546)          0         \n",
      "=================================================================\n",
      "Total params: 1,095,082\n",
      "Trainable params: 1,095,082\n",
      "Non-trainable params: 0\n",
      "_________________________________________________________________\n"
     ]
    }
   ],
   "source": [
    "#RNN模型代码\n",
    "inp = Input(shape=(49,))\n",
    "x = Embedding(vocab_size, embedding_size, mask_zero=True)(inp)\n",
    "x = SimpleRNN(hidden_size,return_sequences=True)(x)\n",
    "x = Dense(vocab_size)(x)\n",
    "pred = Activation('softmax')(x)\n",
    "\n",
    "model = Model(inp, pred)\n",
    "model.summary()"
   ]
  },
  {
   "cell_type": "code",
   "execution_count": 9,
   "metadata": {},
   "outputs": [
    {
     "name": "stderr",
     "output_type": "stream",
     "text": [
      "/root/miniconda3/envs/myconda/lib/python3.7/site-packages/tensorflow_core/python/framework/indexed_slices.py:424: UserWarning: Converting sparse IndexedSlices to a dense Tensor of unknown shape. This may consume a large amount of memory.\n",
      "  \"Converting sparse IndexedSlices to a dense Tensor of unknown shape. \"\n"
     ]
    },
    {
     "name": "stdout",
     "output_type": "stream",
     "text": [
      "Train on 19293 samples, validate on 4824 samples\n",
      "Epoch 1/10\n",
      "19293/19293 [==============================] - 45s 2ms/step - loss: 4.9130 - accuracy: 0.0279 - val_loss: 4.4623 - val_accuracy: 0.0321\n",
      "Epoch 2/10\n",
      "19293/19293 [==============================] - 39s 2ms/step - loss: 4.7793 - accuracy: 0.0296 - val_loss: 4.4572 - val_accuracy: 0.0321\n",
      "Epoch 3/10\n",
      "19293/19293 [==============================] - 38s 2ms/step - loss: 4.7584 - accuracy: 0.0297 - val_loss: 4.4374 - val_accuracy: 0.0323\n",
      "Epoch 4/10\n",
      "19293/19293 [==============================] - 38s 2ms/step - loss: 4.7252 - accuracy: 0.0302 - val_loss: 4.4017 - val_accuracy: 0.0323\n",
      "Epoch 5/10\n",
      "19293/19293 [==============================] - 37s 2ms/step - loss: 4.6898 - accuracy: 0.0317 - val_loss: 4.3747 - val_accuracy: 0.0346\n",
      "Epoch 6/10\n",
      "19293/19293 [==============================] - 38s 2ms/step - loss: 4.6330 - accuracy: 0.0354 - val_loss: 4.3167 - val_accuracy: 0.0379\n",
      "Epoch 7/10\n",
      "19293/19293 [==============================] - 38s 2ms/step - loss: 4.5349 - accuracy: 0.0414 - val_loss: 4.2328 - val_accuracy: 0.0422\n",
      "Epoch 8/10\n",
      "19293/19293 [==============================] - 38s 2ms/step - loss: 4.4192 - accuracy: 0.0488 - val_loss: 4.1424 - val_accuracy: 0.0494\n",
      "Epoch 9/10\n",
      "19293/19293 [==============================] - 37s 2ms/step - loss: 4.3139 - accuracy: 0.0574 - val_loss: 4.0755 - val_accuracy: 0.0564\n",
      "Epoch 10/10\n",
      "19293/19293 [==============================] - 37s 2ms/step - loss: 4.2235 - accuracy: 0.0644 - val_loss: 4.0185 - val_accuracy: 0.0610\n"
     ]
    },
    {
     "data": {
      "text/plain": [
       "<keras.callbacks.callbacks.History at 0x7fd965f2cb10>"
      ]
     },
     "execution_count": 9,
     "metadata": {},
     "output_type": "execute_result"
    }
   ],
   "source": [
    "#模型编译与拟合\n",
    "from keras.optimizers import Adam\n",
    "model.compile(loss='categorical_crossentropy', optimizer=Adam(lr=0.001), metrics=['accuracy'])\n",
    "model.fit(X, Y, epochs=10, batch_size=128, validation_split=0.2)"
   ]
  },
  {
   "cell_type": "code",
   "execution_count": 10,
   "metadata": {},
   "outputs": [
    {
     "name": "stdout",
     "output_type": "stream",
     "text": [
      "佳人不可见何处\n",
      "期何处不见人何\n",
      "如不得不知人不\n",
      "梦无人去何人不\n"
     ]
    }
   ],
   "source": [
    "#RNN做藏头诗\n",
    "poem_incomplete = '佳******期******如******梦******'\n",
    "poem_index=[]\n",
    "poem_text=''\n",
    "for i in range(len(poem_incomplete)):\n",
    "    current_word=poem_incomplete[i]\n",
    "    \n",
    "    if current_word!='*':\n",
    "        index=tokenizer.word_index[current_word]\n",
    "        \n",
    "    else:\n",
    "        x=np.expand_dims(poem_index,axis=0)\n",
    "        x=pad_sequences(x,maxlen=49,padding='post')\n",
    "        y=model.predict(x)[0,i]\n",
    "        \n",
    "        y[0]=0\n",
    "        index=y.argmax()\n",
    "        current_word=tokenizer.index_word[index]\n",
    "        \n",
    "    poem_index.append(index)\n",
    "    poem_text=poem_text+current_word\n",
    "    \n",
    "poem_text=poem_text[0:]\n",
    "print(poem_text[0:7])\n",
    "print(poem_text[7:14])\n",
    "print(poem_text[14:21])\n",
    "print(poem_text[21:28])"
   ]
  },
  {
   "cell_type": "code",
   "execution_count": 15,
   "metadata": {},
   "outputs": [
    {
     "name": "stdout",
     "output_type": "stream",
     "text": [
      "佳人不可见\n",
      "期子不相逢\n",
      "如此人何处\n",
      "梦来不可知\n"
     ]
    }
   ],
   "source": [
    "#RNN做藏头诗\n",
    "poem_incomplete = '佳****期****如****梦****'\n",
    "poem_index=[]\n",
    "poem_text=''\n",
    "for i in range(len(poem_incomplete)):\n",
    "    current_word=poem_incomplete[i]\n",
    "    \n",
    "    if current_word!='*':\n",
    "        index=tokenizer.word_index[current_word]\n",
    "        \n",
    "    else:\n",
    "        x=np.expand_dims(poem_index,axis=0)\n",
    "        x=pad_sequences(x,maxlen=49,padding='post')\n",
    "        y=model.predict(x)[0,i]\n",
    "        \n",
    "        y[0]=0\n",
    "        index=y.argmax()\n",
    "        current_word=tokenizer.index_word[index]\n",
    "        \n",
    "    poem_index.append(index)\n",
    "    poem_text=poem_text+current_word\n",
    "    \n",
    "poem_text=poem_text[0:]\n",
    "print(poem_text[0:5])\n",
    "print(poem_text[5:10])\n",
    "print(poem_text[10:15])\n",
    "print(poem_text[15:20])"
   ]
  },
  {
   "cell_type": "code",
   "execution_count": null,
   "metadata": {},
   "outputs": [],
   "source": []
  }
 ],
 "metadata": {
  "kernelspec": {
   "display_name": "Python 3",
   "language": "python",
   "name": "python3"
  },
  "language_info": {
   "codemirror_mode": {
    "name": "ipython",
    "version": 3
   },
   "file_extension": ".py",
   "mimetype": "text/x-python",
   "name": "python",
   "nbconvert_exporter": "python",
   "pygments_lexer": "ipython3",
   "version": "3.7.6"
  }
 },
 "nbformat": 4,
 "nbformat_minor": 4
}
